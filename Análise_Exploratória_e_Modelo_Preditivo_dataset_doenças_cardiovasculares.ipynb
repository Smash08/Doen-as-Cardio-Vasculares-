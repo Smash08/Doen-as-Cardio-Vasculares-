{
  "nbformat": 4,
  "nbformat_minor": 0,
  "metadata": {
    "colab": {
      "name": "Análise Exploratória e Modelo Preditivo- dataset doenças cardiovasculares.ipynb",
      "provenance": [],
      "collapsed_sections": [],
      "authorship_tag": "ABX9TyM5Bw3b4ubqQsWEWK4JDscG",
      "include_colab_link": true
    },
    "kernelspec": {
      "name": "python3",
      "display_name": "Python 3"
    },
    "language_info": {
      "name": "python"
    }
  },
  "cells": [
    {
      "cell_type": "markdown",
      "metadata": {
        "id": "view-in-github",
        "colab_type": "text"
      },
      "source": [
        "<a href=\"https://colab.research.google.com/github/Smash08/Projeto-Doencas-CardioVasculares/blob/main/An%C3%A1lise_Explorat%C3%B3ria_e_Modelo_Preditivo_dataset_doen%C3%A7as_cardiovasculares.ipynb\" target=\"_parent\"><img src=\"https://colab.research.google.com/assets/colab-badge.svg\" alt=\"Open In Colab\"/></a>"
      ]
    },
    {
      "cell_type": "markdown",
      "metadata": {
        "id": "7nkhc6dP6AVs"
      },
      "source": [
        "#DOENÇAS CARDIOVASCULARES - ANÁLISE EXPLORATÓRIA + MACHINE LEARNING\n",
        "\n",
        "Doenças cardiovasculares contém diferentes tipos de doenças que afetam de alguma maneira o coração ou os vasos sanguíneos. Algumas doenças que afetam são: comoangina de peito, cardiopatia, arritmia cardíaca e aneurisma da aorta.\n",
        "\n",
        "As doenças cardiovasculares são umas das principais causas de morte em todo o mundo, entretanto poderia se evitar  90% dos casos por meio da adoção de algumas medidas e mudanças na maneira de viver.\n",
        "\n",
        "Nos dias atuais, há varias pesquisas na área de Machine Learning visando  construções de modelos preditivos que auxiliem os profissionais de saúde na identificação de doenças desses gênero em seus pacientes.\n",
        "\n",
        "Estudos publicados pela revista Nature Biomedical Engineering demostram um bom indice de eficiência, nos quais foram possívels antencipar se os pacientes teriam ou não doenças cardíacas em até 5 anos - utilizando-se de algoritmos de Deep Learning.\n",
        "\n",
        "Desta forma, podemos vislumbrar que o uso de Inteligência Artificial tem importantíssimo papel na área da saúde, proporcionado aos profissionais médicos informações cada vez mais precisos\n",
        "\n"
      ]
    },
    {
      "cell_type": "markdown",
      "metadata": {
        "id": "IFJwRyWe7qTK"
      },
      "source": [
        "##OBTENÇÃO DOS DADOS\n",
        "\n",
        "O conjunto principal de dados usado neste projeto foi coletado da Cleveland Clinic Foundation e se encontra disponível no conhecido Repositório UCI Machine Learning. Ressalta-se que os nomes, identidade e documentos pessoais dos pacientes foram removidos completamente do banco de dados.\n",
        "\n",
        "O dataset processado contém dados de 303 pessoas e 76 atributos. Entretanto, os principais artigos e estudos publicados optaram por usar apenas 14 atributos, considerados de maior relevância. Da mesma maneira, este projeto de Data Science usará essas mesmas 14 variáveis principais.\n",
        "[link](https://raw.githubusercontent.com/carlosfab/curso_data_science_na_pratica/master/modulo_03/heart-disease-uci.csv)\n",
        "\n",
        "Há ainda um *dataset* secundário que será utilizado para ver a evolução no número de mortes por doenças cardiovasculares no Brasil (entre os anos de 2004-2017). Esses dados foram disponibilizados pela [Sociedade Brasileira de Cardiologia](http://www.cardiometro.com.br/anteriores.asp), e podem ser baixados [neste link](https://raw.githubusercontent.com/carlosfab/curso_data_science_na_pratica/master/modulo_03/mortes_doencas_cardiovasculares.csv)."
      ]
    },
    {
      "cell_type": "markdown",
      "metadata": {
        "id": "LL-rm2tu8QCK"
      },
      "source": [
        "##INFORMAÇÕES SOBRE ATRIBUTO\n",
        "\n",
        "* `age` - idade em anos\n",
        "* `sex` - sexo do paciente\n",
        "  * 0: mulher\n",
        "  * 1: homem\n",
        "* `cp` - tipo da dor torácica\n",
        "  * 1: angina típica\n",
        "  * 2: angina atípica\n",
        "  * 3: dor não cardíaca\n",
        "  * 4: assintomática\n",
        "* `trestbps` - pressão arterial em repouso\n",
        "* `chol` - colesterol sérico (*mg/dl*)\n",
        "* `fbs` - açucar no sangue em jejum > 120*mg/dl*\n",
        "  * 0: `False`\n",
        "  * 1: `True`\n",
        "* `restecg` - resultado do eletrocardiografia de repouso\n",
        "  * 0: normal\n",
        "  * 1: anormalidades de ST-T  (inversão da onda T e elevação ou depressão de > 0.05*mV*)\n",
        "  * 2: hipertrofia ventricular esquerda provável ou definitiva (pelos critérios de Romhilt-Estes)\n",
        "* `thalach` - frequência cardíaca máxima atingida\n",
        "* `exang` - angina induzida pelo exercício\n",
        "  * 0: não\n",
        "  * 1: sim\n",
        "* `oldpeak` - depessão do segmento ST induzida pelo exercício em relação ao repouso\n",
        "* `slope` - inclinação do segmento ST no pico do exercício\n",
        "* `ca` - número de vasos principais colorido por fluoroscopia\n",
        "* `thal` - *thallium stress test*\n",
        "  * 3: normal\n",
        "  * 6: defeito fixo\n",
        "  * 7: defeito reversível\n",
        "* `num` - diagnóstico de doença cardíaca (diagnóstico angiográfico)\n",
        "  * 0: não há doença cardíaca ( < 50% de estreitamento do diâmetro)\n",
        "  * 1,2,3,4: há doença cardíaca ( > 50% de estreitamento do diâmetro)\n"
      ]
    },
    {
      "cell_type": "markdown",
      "metadata": {
        "id": "lYlIVHqN9-bh"
      },
      "source": [
        "###Importar dados\n",
        "\n",
        "Para iniciar a nossa análise, iremos importar os dois dataset linkados no inicio do projeto"
      ]
    },
    {
      "cell_type": "code",
      "metadata": {
        "id": "5OqQxVjlMkX5"
      },
      "source": [
        "import pandas as pd\n",
        "import matplotlib.pyplot as plt\n",
        "import seaborn as sns\n",
        "import numpy as np\n",
        "from sklearn.preprocessing import LabelEncoder\n",
        "from sklearn.model_selection import StratifiedKFold\n",
        "from sklearn.pipeline import Pipeline\n",
        "from sklearn.model_selection import RandomizedSearchCV\n",
        "from sklearn import model_selection\n",
        "from sklearn.linear_model import LogisticRegression\n",
        "from sklearn.tree import DecisionTreeClassifier\n",
        "from sklearn.neighbors import KNeighborsClassifier\n",
        "from sklearn.ensemble import RandomForestClassifier\n",
        "from sklearn.naive_bayes import GaussianNB\n",
        "from sklearn.preprocessing import StandardScaler\n",
        "from sklearn.metrics import accuracy_score\n",
        "from sklearn.model_selection import cross_val_predict\n",
        "from sklearn.metrics import confusion_matrix\n",
        "from sklearn.metrics import classification_report\n",
        "from warnings import simplefilter\n",
        "from sklearn.model_selection import GridSearchCV\n",
        "\n",
        "from sklearn.model_selection import train_test_split\n",
        "from xgboost import XGBClassifier\n",
        "\n",
        "from sklearn.metrics import confusion_matrix"
      ],
      "execution_count": null,
      "outputs": []
    },
    {
      "cell_type": "code",
      "metadata": {
        "id": "3_FtVms4-LLQ"
      },
      "source": [
        "sns.set_style\n",
        "dataset_uci = \"https://raw.githubusercontent.com/carlosfab/curso_data_science_na_pratica/master/modulo_03/heart-disease-uci.csv\"\n",
        "dataset_brasil = \"https://raw.githubusercontent.com/carlosfab/curso_data_science_na_pratica/master/modulo_03/mortes_doencas_cardiovasculares.csv\""
      ],
      "execution_count": null,
      "outputs": []
    },
    {
      "cell_type": "code",
      "metadata": {
        "id": "Bevrxeoi-SWg"
      },
      "source": [
        "# importar dataset da UCI\n",
        "df = pd.read_csv(dataset_uci)\n",
        "\n",
        "#importar dataset dos indíces do Brasil\n",
        "df_brasil = pd.read_csv(dataset_brasil)"
      ],
      "execution_count": null,
      "outputs": []
    },
    {
      "cell_type": "code",
      "metadata": {
        "colab": {
          "base_uri": "https://localhost:8080/",
          "height": 204
        },
        "id": "jBZlbQIA-fkY",
        "outputId": "5f068760-dbdb-4497-898b-abd77c23e3c3"
      },
      "source": [
        "df_brasil.head()"
      ],
      "execution_count": null,
      "outputs": [
        {
          "output_type": "execute_result",
          "data": {
            "text/html": [
              "<div>\n",
              "<style scoped>\n",
              "    .dataframe tbody tr th:only-of-type {\n",
              "        vertical-align: middle;\n",
              "    }\n",
              "\n",
              "    .dataframe tbody tr th {\n",
              "        vertical-align: top;\n",
              "    }\n",
              "\n",
              "    .dataframe thead th {\n",
              "        text-align: right;\n",
              "    }\n",
              "</style>\n",
              "<table border=\"1\" class=\"dataframe\">\n",
              "  <thead>\n",
              "    <tr style=\"text-align: right;\">\n",
              "      <th></th>\n",
              "      <th>ano</th>\n",
              "      <th>mortes_doencas_cardio</th>\n",
              "    </tr>\n",
              "  </thead>\n",
              "  <tbody>\n",
              "    <tr>\n",
              "      <th>0</th>\n",
              "      <td>2017</td>\n",
              "      <td>383.961</td>\n",
              "    </tr>\n",
              "    <tr>\n",
              "      <th>1</th>\n",
              "      <td>2016</td>\n",
              "      <td>362.091</td>\n",
              "    </tr>\n",
              "    <tr>\n",
              "      <th>2</th>\n",
              "      <td>2015</td>\n",
              "      <td>349.584</td>\n",
              "    </tr>\n",
              "    <tr>\n",
              "      <th>3</th>\n",
              "      <td>2014</td>\n",
              "      <td>340.284</td>\n",
              "    </tr>\n",
              "    <tr>\n",
              "      <th>4</th>\n",
              "      <td>2013</td>\n",
              "      <td>339.672</td>\n",
              "    </tr>\n",
              "  </tbody>\n",
              "</table>\n",
              "</div>"
            ],
            "text/plain": [
              "    ano  mortes_doencas_cardio\n",
              "0  2017                383.961\n",
              "1  2016                362.091\n",
              "2  2015                349.584\n",
              "3  2014                340.284\n",
              "4  2013                339.672"
            ]
          },
          "metadata": {},
          "execution_count": 8
        }
      ]
    },
    {
      "cell_type": "code",
      "metadata": {
        "colab": {
          "base_uri": "https://localhost:8080/",
          "height": 204
        },
        "id": "QZU6ZpgB-pFo",
        "outputId": "2f6c4fc4-f419-4f5c-bab8-6db95f4e1275"
      },
      "source": [
        "df.head()"
      ],
      "execution_count": null,
      "outputs": [
        {
          "output_type": "execute_result",
          "data": {
            "text/html": [
              "<div>\n",
              "<style scoped>\n",
              "    .dataframe tbody tr th:only-of-type {\n",
              "        vertical-align: middle;\n",
              "    }\n",
              "\n",
              "    .dataframe tbody tr th {\n",
              "        vertical-align: top;\n",
              "    }\n",
              "\n",
              "    .dataframe thead th {\n",
              "        text-align: right;\n",
              "    }\n",
              "</style>\n",
              "<table border=\"1\" class=\"dataframe\">\n",
              "  <thead>\n",
              "    <tr style=\"text-align: right;\">\n",
              "      <th></th>\n",
              "      <th>age</th>\n",
              "      <th>sex</th>\n",
              "      <th>cp</th>\n",
              "      <th>trestbps</th>\n",
              "      <th>chol</th>\n",
              "      <th>fbs</th>\n",
              "      <th>restecg</th>\n",
              "      <th>thalach</th>\n",
              "      <th>exang</th>\n",
              "      <th>oldpeak</th>\n",
              "      <th>slope</th>\n",
              "      <th>ca</th>\n",
              "      <th>thal</th>\n",
              "      <th>num</th>\n",
              "    </tr>\n",
              "  </thead>\n",
              "  <tbody>\n",
              "    <tr>\n",
              "      <th>0</th>\n",
              "      <td>63.0</td>\n",
              "      <td>1.0</td>\n",
              "      <td>1.0</td>\n",
              "      <td>145.0</td>\n",
              "      <td>233.0</td>\n",
              "      <td>1.0</td>\n",
              "      <td>2.0</td>\n",
              "      <td>150.0</td>\n",
              "      <td>0.0</td>\n",
              "      <td>2.3</td>\n",
              "      <td>3.0</td>\n",
              "      <td>0.0</td>\n",
              "      <td>6.0</td>\n",
              "      <td>0</td>\n",
              "    </tr>\n",
              "    <tr>\n",
              "      <th>1</th>\n",
              "      <td>67.0</td>\n",
              "      <td>1.0</td>\n",
              "      <td>4.0</td>\n",
              "      <td>160.0</td>\n",
              "      <td>286.0</td>\n",
              "      <td>0.0</td>\n",
              "      <td>2.0</td>\n",
              "      <td>108.0</td>\n",
              "      <td>1.0</td>\n",
              "      <td>1.5</td>\n",
              "      <td>2.0</td>\n",
              "      <td>3.0</td>\n",
              "      <td>3.0</td>\n",
              "      <td>2</td>\n",
              "    </tr>\n",
              "    <tr>\n",
              "      <th>2</th>\n",
              "      <td>67.0</td>\n",
              "      <td>1.0</td>\n",
              "      <td>4.0</td>\n",
              "      <td>120.0</td>\n",
              "      <td>229.0</td>\n",
              "      <td>0.0</td>\n",
              "      <td>2.0</td>\n",
              "      <td>129.0</td>\n",
              "      <td>1.0</td>\n",
              "      <td>2.6</td>\n",
              "      <td>2.0</td>\n",
              "      <td>2.0</td>\n",
              "      <td>7.0</td>\n",
              "      <td>1</td>\n",
              "    </tr>\n",
              "    <tr>\n",
              "      <th>3</th>\n",
              "      <td>37.0</td>\n",
              "      <td>1.0</td>\n",
              "      <td>3.0</td>\n",
              "      <td>130.0</td>\n",
              "      <td>250.0</td>\n",
              "      <td>0.0</td>\n",
              "      <td>0.0</td>\n",
              "      <td>187.0</td>\n",
              "      <td>0.0</td>\n",
              "      <td>3.5</td>\n",
              "      <td>3.0</td>\n",
              "      <td>0.0</td>\n",
              "      <td>3.0</td>\n",
              "      <td>0</td>\n",
              "    </tr>\n",
              "    <tr>\n",
              "      <th>4</th>\n",
              "      <td>41.0</td>\n",
              "      <td>0.0</td>\n",
              "      <td>2.0</td>\n",
              "      <td>130.0</td>\n",
              "      <td>204.0</td>\n",
              "      <td>0.0</td>\n",
              "      <td>2.0</td>\n",
              "      <td>172.0</td>\n",
              "      <td>0.0</td>\n",
              "      <td>1.4</td>\n",
              "      <td>1.0</td>\n",
              "      <td>0.0</td>\n",
              "      <td>3.0</td>\n",
              "      <td>0</td>\n",
              "    </tr>\n",
              "  </tbody>\n",
              "</table>\n",
              "</div>"
            ],
            "text/plain": [
              "    age  sex   cp  trestbps   chol  fbs  ...  exang  oldpeak  slope   ca  thal  num\n",
              "0  63.0  1.0  1.0     145.0  233.0  1.0  ...    0.0      2.3    3.0  0.0   6.0    0\n",
              "1  67.0  1.0  4.0     160.0  286.0  0.0  ...    1.0      1.5    2.0  3.0   3.0    2\n",
              "2  67.0  1.0  4.0     120.0  229.0  0.0  ...    1.0      2.6    2.0  2.0   7.0    1\n",
              "3  37.0  1.0  3.0     130.0  250.0  0.0  ...    0.0      3.5    3.0  0.0   3.0    0\n",
              "4  41.0  0.0  2.0     130.0  204.0  0.0  ...    0.0      1.4    1.0  0.0   3.0    0\n",
              "\n",
              "[5 rows x 14 columns]"
            ]
          },
          "metadata": {},
          "execution_count": 9
        }
      ]
    },
    {
      "cell_type": "code",
      "metadata": {
        "colab": {
          "base_uri": "https://localhost:8080/"
        },
        "id": "iaRLV9Qt-r0g",
        "outputId": "3c2c5809-6174-419f-9659-02df7a2c7a79"
      },
      "source": [
        "# variável alvo antes\n",
        "df.num.value_counts()"
      ],
      "execution_count": null,
      "outputs": [
        {
          "output_type": "execute_result",
          "data": {
            "text/plain": [
              "0    164\n",
              "1     55\n",
              "2     36\n",
              "3     35\n",
              "4     13\n",
              "Name: num, dtype: int64"
            ]
          },
          "metadata": {},
          "execution_count": 10
        }
      ]
    },
    {
      "cell_type": "code",
      "metadata": {
        "id": "rr706pNO_QPA"
      },
      "source": [
        "# converter valores >= 1 em 1\n",
        "df.loc[df.num != 0, 'num'] = 1"
      ],
      "execution_count": null,
      "outputs": []
    },
    {
      "cell_type": "code",
      "metadata": {
        "colab": {
          "base_uri": "https://localhost:8080/"
        },
        "id": "HX-NLrXQ_lm4",
        "outputId": "95999fb4-a855-4335-daec-7aad649ab9a2"
      },
      "source": [
        "# variável alvo depois\n",
        "df.num.value_counts()"
      ],
      "execution_count": null,
      "outputs": [
        {
          "output_type": "execute_result",
          "data": {
            "text/plain": [
              "0    164\n",
              "1    139\n",
              "Name: num, dtype: int64"
            ]
          },
          "metadata": {},
          "execution_count": 12
        }
      ]
    },
    {
      "cell_type": "markdown",
      "metadata": {
        "id": "i7BBpFDd_viQ"
      },
      "source": [
        "###ANÁLISE EXPLORATÓRIA"
      ]
    },
    {
      "cell_type": "code",
      "metadata": {
        "colab": {
          "base_uri": "https://localhost:8080/"
        },
        "id": "Ab1YgHEd_nCw",
        "outputId": "b9c770af-e223-4b9d-d65a-6feff1590ba6"
      },
      "source": [
        "print(f'Tamanho do dataset UCI : {df.shape}')\n",
        "print(f'Tamanho do dataset Brasil: {df_brasil.shape}')"
      ],
      "execution_count": null,
      "outputs": [
        {
          "output_type": "stream",
          "name": "stdout",
          "text": [
            "Tamanho do dataset UCI : (303, 14)\n",
            "Tamanho do dataset Brasil: (14, 2)\n"
          ]
        }
      ]
    },
    {
      "cell_type": "code",
      "metadata": {
        "colab": {
          "base_uri": "https://localhost:8080/",
          "height": 334
        },
        "id": "lDkbVmDP_ye4",
        "outputId": "a46b9d68-fd21-45a4-bb41-12a4e94208e9"
      },
      "source": [
        "print('Resumo estatistico:')\n",
        "display(df.describe())"
      ],
      "execution_count": null,
      "outputs": [
        {
          "output_type": "stream",
          "name": "stdout",
          "text": [
            "Resumo estatiscio:\n"
          ]
        },
        {
          "output_type": "display_data",
          "data": {
            "text/html": [
              "<div>\n",
              "<style scoped>\n",
              "    .dataframe tbody tr th:only-of-type {\n",
              "        vertical-align: middle;\n",
              "    }\n",
              "\n",
              "    .dataframe tbody tr th {\n",
              "        vertical-align: top;\n",
              "    }\n",
              "\n",
              "    .dataframe thead th {\n",
              "        text-align: right;\n",
              "    }\n",
              "</style>\n",
              "<table border=\"1\" class=\"dataframe\">\n",
              "  <thead>\n",
              "    <tr style=\"text-align: right;\">\n",
              "      <th></th>\n",
              "      <th>age</th>\n",
              "      <th>sex</th>\n",
              "      <th>cp</th>\n",
              "      <th>trestbps</th>\n",
              "      <th>chol</th>\n",
              "      <th>fbs</th>\n",
              "      <th>restecg</th>\n",
              "      <th>thalach</th>\n",
              "      <th>exang</th>\n",
              "      <th>oldpeak</th>\n",
              "      <th>slope</th>\n",
              "      <th>ca</th>\n",
              "      <th>thal</th>\n",
              "      <th>num</th>\n",
              "    </tr>\n",
              "  </thead>\n",
              "  <tbody>\n",
              "    <tr>\n",
              "      <th>count</th>\n",
              "      <td>303.000000</td>\n",
              "      <td>303.000000</td>\n",
              "      <td>303.000000</td>\n",
              "      <td>303.000000</td>\n",
              "      <td>303.000000</td>\n",
              "      <td>303.000000</td>\n",
              "      <td>303.000000</td>\n",
              "      <td>303.000000</td>\n",
              "      <td>303.000000</td>\n",
              "      <td>303.000000</td>\n",
              "      <td>303.000000</td>\n",
              "      <td>303.000000</td>\n",
              "      <td>303.000000</td>\n",
              "      <td>303.000000</td>\n",
              "    </tr>\n",
              "    <tr>\n",
              "      <th>mean</th>\n",
              "      <td>54.438944</td>\n",
              "      <td>0.679868</td>\n",
              "      <td>3.158416</td>\n",
              "      <td>131.689769</td>\n",
              "      <td>246.693069</td>\n",
              "      <td>0.148515</td>\n",
              "      <td>0.990099</td>\n",
              "      <td>149.607261</td>\n",
              "      <td>0.326733</td>\n",
              "      <td>1.039604</td>\n",
              "      <td>1.600660</td>\n",
              "      <td>0.663366</td>\n",
              "      <td>4.722772</td>\n",
              "      <td>0.458746</td>\n",
              "    </tr>\n",
              "    <tr>\n",
              "      <th>std</th>\n",
              "      <td>9.038662</td>\n",
              "      <td>0.467299</td>\n",
              "      <td>0.960126</td>\n",
              "      <td>17.599748</td>\n",
              "      <td>51.776918</td>\n",
              "      <td>0.356198</td>\n",
              "      <td>0.994971</td>\n",
              "      <td>22.875003</td>\n",
              "      <td>0.469794</td>\n",
              "      <td>1.161075</td>\n",
              "      <td>0.616226</td>\n",
              "      <td>0.934375</td>\n",
              "      <td>1.938383</td>\n",
              "      <td>0.499120</td>\n",
              "    </tr>\n",
              "    <tr>\n",
              "      <th>min</th>\n",
              "      <td>29.000000</td>\n",
              "      <td>0.000000</td>\n",
              "      <td>1.000000</td>\n",
              "      <td>94.000000</td>\n",
              "      <td>126.000000</td>\n",
              "      <td>0.000000</td>\n",
              "      <td>0.000000</td>\n",
              "      <td>71.000000</td>\n",
              "      <td>0.000000</td>\n",
              "      <td>0.000000</td>\n",
              "      <td>1.000000</td>\n",
              "      <td>0.000000</td>\n",
              "      <td>3.000000</td>\n",
              "      <td>0.000000</td>\n",
              "    </tr>\n",
              "    <tr>\n",
              "      <th>25%</th>\n",
              "      <td>48.000000</td>\n",
              "      <td>0.000000</td>\n",
              "      <td>3.000000</td>\n",
              "      <td>120.000000</td>\n",
              "      <td>211.000000</td>\n",
              "      <td>0.000000</td>\n",
              "      <td>0.000000</td>\n",
              "      <td>133.500000</td>\n",
              "      <td>0.000000</td>\n",
              "      <td>0.000000</td>\n",
              "      <td>1.000000</td>\n",
              "      <td>0.000000</td>\n",
              "      <td>3.000000</td>\n",
              "      <td>0.000000</td>\n",
              "    </tr>\n",
              "    <tr>\n",
              "      <th>50%</th>\n",
              "      <td>56.000000</td>\n",
              "      <td>1.000000</td>\n",
              "      <td>3.000000</td>\n",
              "      <td>130.000000</td>\n",
              "      <td>241.000000</td>\n",
              "      <td>0.000000</td>\n",
              "      <td>1.000000</td>\n",
              "      <td>153.000000</td>\n",
              "      <td>0.000000</td>\n",
              "      <td>0.800000</td>\n",
              "      <td>2.000000</td>\n",
              "      <td>0.000000</td>\n",
              "      <td>3.000000</td>\n",
              "      <td>0.000000</td>\n",
              "    </tr>\n",
              "    <tr>\n",
              "      <th>75%</th>\n",
              "      <td>61.000000</td>\n",
              "      <td>1.000000</td>\n",
              "      <td>4.000000</td>\n",
              "      <td>140.000000</td>\n",
              "      <td>275.000000</td>\n",
              "      <td>0.000000</td>\n",
              "      <td>2.000000</td>\n",
              "      <td>166.000000</td>\n",
              "      <td>1.000000</td>\n",
              "      <td>1.600000</td>\n",
              "      <td>2.000000</td>\n",
              "      <td>1.000000</td>\n",
              "      <td>7.000000</td>\n",
              "      <td>1.000000</td>\n",
              "    </tr>\n",
              "    <tr>\n",
              "      <th>max</th>\n",
              "      <td>77.000000</td>\n",
              "      <td>1.000000</td>\n",
              "      <td>4.000000</td>\n",
              "      <td>200.000000</td>\n",
              "      <td>564.000000</td>\n",
              "      <td>1.000000</td>\n",
              "      <td>2.000000</td>\n",
              "      <td>202.000000</td>\n",
              "      <td>1.000000</td>\n",
              "      <td>6.200000</td>\n",
              "      <td>3.000000</td>\n",
              "      <td>3.000000</td>\n",
              "      <td>7.000000</td>\n",
              "      <td>1.000000</td>\n",
              "    </tr>\n",
              "  </tbody>\n",
              "</table>\n",
              "</div>"
            ],
            "text/plain": [
              "              age         sex          cp  ...          ca        thal         num\n",
              "count  303.000000  303.000000  303.000000  ...  303.000000  303.000000  303.000000\n",
              "mean    54.438944    0.679868    3.158416  ...    0.663366    4.722772    0.458746\n",
              "std      9.038662    0.467299    0.960126  ...    0.934375    1.938383    0.499120\n",
              "min     29.000000    0.000000    1.000000  ...    0.000000    3.000000    0.000000\n",
              "25%     48.000000    0.000000    3.000000  ...    0.000000    3.000000    0.000000\n",
              "50%     56.000000    1.000000    3.000000  ...    0.000000    3.000000    0.000000\n",
              "75%     61.000000    1.000000    4.000000  ...    1.000000    7.000000    1.000000\n",
              "max     77.000000    1.000000    4.000000  ...    3.000000    7.000000    1.000000\n",
              "\n",
              "[8 rows x 14 columns]"
            ]
          },
          "metadata": {}
        }
      ]
    },
    {
      "cell_type": "markdown",
      "metadata": {
        "id": "agY1yhIQAU_Y"
      },
      "source": [
        "A Média de idade está em 54 anos, a média de frequência cardiaca atingida (thalach) é de 150, além disso a media de pressão arterial é de 131 - valores altos. Assim como, o colestorol que tem uma média de 247, sendo que o ideal é até 200"
      ]
    },
    {
      "cell_type": "code",
      "metadata": {
        "colab": {
          "base_uri": "https://localhost:8080/"
        },
        "id": "Mdlv2FXrABJI",
        "outputId": "bcbc5975-4dd8-408a-da45-bc1078904810"
      },
      "source": [
        "df.dtypes"
      ],
      "execution_count": null,
      "outputs": [
        {
          "output_type": "execute_result",
          "data": {
            "text/plain": [
              "age         float64\n",
              "sex         float64\n",
              "cp          float64\n",
              "trestbps    float64\n",
              "chol        float64\n",
              "fbs         float64\n",
              "restecg     float64\n",
              "thalach     float64\n",
              "exang       float64\n",
              "oldpeak     float64\n",
              "slope       float64\n",
              "ca          float64\n",
              "thal        float64\n",
              "num           int64\n",
              "dtype: object"
            ]
          },
          "metadata": {},
          "execution_count": 22
        }
      ]
    },
    {
      "cell_type": "code",
      "metadata": {
        "colab": {
          "base_uri": "https://localhost:8080/"
        },
        "id": "R8Wpkm-yBNJn",
        "outputId": "cc7c90e7-3d43-4c54-9911-a8239cb3d91f"
      },
      "source": [
        "#Fazendo a contagem de quantas pessoas tem doenças cardiacas\n",
        "num_Freq = df.num.value_counts()\n",
        "\n",
        "print(f'Não tem doença Cardiovascular: {num_Freq[0]}, representa {num_Freq[0]/df.shape[0]*100 :.2f}% do dataset')\n",
        "print(f'Tem doença Cardiovascular: {num_Freq[1]}, representa {num_Freq[1]/df.shape[0]*100 :.2f}% do dataset')\n",
        "\n"
      ],
      "execution_count": null,
      "outputs": [
        {
          "output_type": "stream",
          "name": "stdout",
          "text": [
            "Não tem doença Cardiovascular: 164, representa 54.13% do dataset\n",
            "Tem doença Cardiovascular: 139, representa 45.87% do dataset\n"
          ]
        }
      ]
    },
    {
      "cell_type": "markdown",
      "metadata": {
        "id": "l1Zb7Bl5Dmi2"
      },
      "source": [
        "###Verificando valores ausentes"
      ]
    },
    {
      "cell_type": "code",
      "metadata": {
        "colab": {
          "base_uri": "https://localhost:8080/"
        },
        "id": "k3bsK1KOB4QW",
        "outputId": "c79900b6-f150-46dc-de92-87a83a0c0bbf"
      },
      "source": [
        "df.isnull().sum()"
      ],
      "execution_count": null,
      "outputs": [
        {
          "output_type": "execute_result",
          "data": {
            "text/plain": [
              "age         0\n",
              "sex         0\n",
              "cp          0\n",
              "trestbps    0\n",
              "chol        0\n",
              "fbs         0\n",
              "restecg     0\n",
              "thalach     0\n",
              "exang       0\n",
              "oldpeak     0\n",
              "slope       0\n",
              "ca          0\n",
              "thal        0\n",
              "num         0\n",
              "dtype: int64"
            ]
          },
          "metadata": {},
          "execution_count": 46
        }
      ]
    },
    {
      "cell_type": "code",
      "metadata": {
        "colab": {
          "base_uri": "https://localhost:8080/"
        },
        "id": "87pwTFJQEHg-",
        "outputId": "9c895d0b-610f-4333-a130-389d4dfff1a8"
      },
      "source": [
        "df_brasil.isnull().sum()"
      ],
      "execution_count": null,
      "outputs": [
        {
          "output_type": "execute_result",
          "data": {
            "text/plain": [
              "ano                      0\n",
              "mortes_doencas_cardio    0\n",
              "dtype: int64"
            ]
          },
          "metadata": {},
          "execution_count": 47
        }
      ]
    },
    {
      "cell_type": "markdown",
      "metadata": {
        "id": "FQosqcm_EXWO"
      },
      "source": [
        "###GRÁFICOS"
      ]
    },
    {
      "cell_type": "code",
      "metadata": {
        "colab": {
          "base_uri": "https://localhost:8080/",
          "height": 297
        },
        "id": "f1p4HTYhENCF",
        "outputId": "49ea48a8-dfae-4b0c-ed5a-5e7abc114b61"
      },
      "source": [
        "fig, ax = plt.subplots()\n",
        "df_brasil.plot('ano','mortes_doencas_cardio', ax=ax)\n",
        "\n",
        "ax.set_title('Mortes no Brasil')\n",
        "ax.set_xlabel('Ano')\n",
        "ax.set_ylabel('Mortes(mil)')\n",
        "\n",
        "plt.tight_layout()\n"
      ],
      "execution_count": null,
      "outputs": [
        {
          "output_type": "display_data",
          "data": {
            "image/png": "[encoded data removed]",
            "text/plain": [
              "<Figure size 432x288 with 1 Axes>"
            ]
          },
          "metadata": {
            "needs_background": "light"
          }
        }
      ]
    },
    {
      "cell_type": "markdown",
      "metadata": {
        "id": "IVcKHcJVaAdb"
      },
      "source": [
        "Percebe-se que é uma reta está em uma crescente, em consulta ao site cardiômetro ([link](http://www.cardiometro.com.br/anteriores.asp)), o mesmo relata que em 2017 estima-se que 383.961 faleceram por doenças cardiovasculares, já dois anos depois, em 2019 estima-se que foram mais de 289 mil pessoas, segundo o site de notícia Agência Brasil.\n",
        "\n",
        "Hoje (29/09/21), o total de mortes já chegou ao patamar de  300.295 pessoas."
      ]
    },
    {
      "cell_type": "code",
      "metadata": {
        "id": "8hvJBBUoFJNN",
        "colab": {
          "base_uri": "https://localhost:8080/",
          "height": 297
        },
        "outputId": "6df4e550-6224-43d1-fcb2-2b69d4ac2aae"
      },
      "source": [
        "fig, ax = plt.subplots(figsize=(8,4))\n",
        "\n",
        "df.groupby(['sex']).sex.count().plot(kind='bar',ax=ax);\n",
        "\n",
        "#Modificando o nome dos ticket\n",
        "xtick= ['Mulheres', 'Homens']\n",
        "x = np.arange(2)\n",
        "plt.xticks(x, xtick, rotation=0)\n",
        "\n",
        "#Colocando  titulo\n",
        "plt.title('Quantidade por Genero')\n",
        "#Colocando legenda no eixo y\n",
        "plt.ylabel('Quantidade')\n",
        "   \n",
        "plt.tight_layout()\n",
        "\n"
      ],
      "execution_count": null,
      "outputs": [
        {
          "output_type": "display_data",
          "data": {
            "image/png": "[encoded data removed]",
            "text/plain": [
              "<Figure size 576x288 with 1 Axes>"
            ]
          },
          "metadata": {
            "needs_background": "light"
          }
        }
      ]
    },
    {
      "cell_type": "code",
      "metadata": {
        "colab": {
          "base_uri": "https://localhost:8080/",
          "height": 585
        },
        "id": "Kui2nvaHoS_L",
        "outputId": "eaa920f7-0333-4b41-fb50-01c9f32e58c4"
      },
      "source": [
        "fig, ax = plt.subplots(figsize=(10,8))\n",
        "\n",
        "df.plot.scatter(x='age', y='chol',ax=ax)\n",
        "ax.set_title('Idade x Colesterol')\n",
        "ax.set_xlabel('Idade')\n",
        "ax.set_ylabel('Colesterol')\n",
        "\n",
        "plt.tight_layout()"
      ],
      "execution_count": null,
      "outputs": [
        {
          "output_type": "display_data",
          "data": {
            "image/png": "[encoded data removed]",
            "text/plain": [
              "<Figure size 720x576 with 1 Axes>"
            ]
          },
          "metadata": {
            "needs_background": "light"
          }
        }
      ]
    },
    {
      "cell_type": "markdown",
      "metadata": {
        "id": "aVn9pCpkzQ6u"
      },
      "source": [
        "Ao plotar o gráfico de disperssão é possível perceber que não há uma correlação entre Colestoral e a idade"
      ]
    },
    {
      "cell_type": "code",
      "metadata": {
        "colab": {
          "base_uri": "https://localhost:8080/",
          "height": 297
        },
        "id": "3Vk5djf2vSmY",
        "outputId": "e6d49a2e-96a9-4d43-b30d-1e063b77a228"
      },
      "source": [
        "\n",
        "\n",
        "fig, ax = plt.subplots()\n",
        "sns.set\n",
        "df[\"chol\"].plot(kind='hist', bins=10, ax=ax)\n",
        "\n",
        "ax.set_title('Frequência x Colesterol')\n",
        "ax.set_xlabel('Colesterol')\n",
        "ax.set_ylabel('Frequência')\n",
        "plt.tight_layout()"
      ],
      "execution_count": null,
      "outputs": [
        {
          "output_type": "display_data",
          "data": {
            "image/png": "[encoded data removed]",
            "text/plain": [
              "<Figure size 432x288 with 1 Axes>"
            ]
          },
          "metadata": {
            "needs_background": "light"
          }
        }
      ]
    },
    {
      "cell_type": "markdown",
      "metadata": {
        "id": "SsgtwpLl0e5d"
      },
      "source": [
        "Os maiores níveis de colestol se encontram a cima de 200, conforme dito alhures, é um número bastante perigoso, pois o normal é 200."
      ]
    },
    {
      "cell_type": "code",
      "metadata": {
        "colab": {
          "base_uri": "https://localhost:8080/",
          "height": 429
        },
        "id": "LZrFSb6rzuGk",
        "outputId": "a4083815-ceb2-4b85-acf1-021bca910006"
      },
      "source": [
        "# extrair as ocorrências para um dicionário\n",
        "restecg = dict(df.restecg.value_counts())\n",
        "\n",
        "# preparar dados para o pie chart\n",
        "labels = 'Normal', 'Anormalidade','Hipertrofia'\n",
        "sizes = restecg.values()\n",
        "explode = (0.1, 0, 0)\n",
        "\n",
        "#plotando\n",
        "fig, ax = plt.subplots(figsize=(6,6))\n",
        "\n",
        "ax.pie(sizes, labels=labels, explode=explode, shadow=True)\n",
        "\n",
        "ax.set_title('Resultado do Eletrocardiografia de Repouso')\n",
        "\n",
        "plt.tight_layout()"
      ],
      "execution_count": null,
      "outputs": [
        {
          "output_type": "display_data",
          "data": {
            "image/png": "[encoded data removed]",
            "text/plain": [
              "<Figure size 432x432 with 1 Axes>"
            ]
          },
          "metadata": {}
        }
      ]
    },
    {
      "cell_type": "code",
      "metadata": {
        "colab": {
          "base_uri": "https://localhost:8080/",
          "height": 409
        },
        "id": "IETbKJMi279k",
        "outputId": "9f84f8d1-c656-40c5-b432-15a3ba6c494b"
      },
      "source": [
        "fig, ax = plt.subplots(figsize=(10,6))\n",
        "sns.heatmap(df.corr(), ax=ax)\n",
        "plt.show()"
      ],
      "execution_count": null,
      "outputs": [
        {
          "output_type": "display_data",
          "data": {
            "image/png": "[encoded data removed]",
            "text/plain": [
              "<Figure size 720x432 with 2 Axes>"
            ]
          },
          "metadata": {
            "needs_background": "light"
          }
        }
      ]
    },
    {
      "cell_type": "code",
      "metadata": {
        "colab": {
          "base_uri": "https://localhost:8080/"
        },
        "id": "sTmVIMCqASHP",
        "outputId": "080f7ae4-751f-4b16-bd58-0aa17469d625"
      },
      "source": [
        "corr = df.corr()\n",
        "corr_list = corr['num'].sort_values(axis=0,ascending=False).iloc[1:]\n",
        "corr_list"
      ],
      "execution_count": null,
      "outputs": [
        {
          "output_type": "execute_result",
          "data": {
            "text/plain": [
              "thal        0.522057\n",
              "ca          0.460033\n",
              "exang       0.431894\n",
              "oldpeak     0.424510\n",
              "cp          0.414446\n",
              "slope       0.339213\n",
              "sex         0.276816\n",
              "age         0.223120\n",
              "restecg     0.169202\n",
              "trestbps    0.150825\n",
              "chol        0.085164\n",
              "fbs         0.025264\n",
              "thalach    -0.417167\n",
              "Name: num, dtype: float64"
            ]
          },
          "metadata": {},
          "execution_count": 156
        }
      ]
    },
    {
      "cell_type": "markdown",
      "metadata": {
        "id": "VK_IZXXQ3v2L"
      },
      "source": [
        "Análisando o heatmap, principalmente no que tange as correlações da coluna num - representa as pessoas que tiveram e não tiveram doença cardiovascular, é possível perceber que há uma relação entre algumas variaveis, quais sejam exang **(angina induzida pelo exercício)**, ca**(número de vasos principais colorido por fluoroscopia)**, thal **(tipo da dor torácica)**"
      ]
    },
    {
      "cell_type": "markdown",
      "metadata": {
        "id": "HtagnBSR4tuK"
      },
      "source": [
        "##MACHINE LEARNING\n",
        "\n",
        "Neste tópico usaremos modelo preditivo para tentar prever e verificar qual perfomace melhor.\n",
        "\n",
        "A minha primeira tentativa foi com **XGBoost**, obtendo uma acurácia de  81%, após isso tente o **Decision Tree** obtendo 76% de acurácia, após isso tentei implementar a **Random Forest** no intuito de obter uma acurácia melhor, entretanto houve-se um aumento de 1%, obtive o resultado de 77%"
      ]
    },
    {
      "cell_type": "markdown",
      "metadata": {
        "id": "PGAIIGS2BRaw"
      },
      "source": [
        "Separando features"
      ]
    },
    {
      "cell_type": "code",
      "metadata": {
        "id": "dRhSoUfKAIlg"
      },
      "source": [
        "# Separando a classe dos Dados\n",
        "previsores = df.drop('num',axis=1)\n",
        "classe = df['num']"
      ],
      "execution_count": null,
      "outputs": []
    },
    {
      "cell_type": "code",
      "metadata": {
        "colab": {
          "base_uri": "https://localhost:8080/"
        },
        "id": "74EYjlalBZoP",
        "outputId": "e50a7aa3-f428-4909-e212-a246b496b256"
      },
      "source": [
        "clf =RandomForestClassifier(n_estimators=100, random_state=7)\n",
        "clf.fit(previsores, classe)"
      ],
      "execution_count": null,
      "outputs": [
        {
          "output_type": "execute_result",
          "data": {
            "text/plain": [
              "RandomForestClassifier(bootstrap=True, ccp_alpha=0.0, class_weight=None,\n",
              "                       criterion='gini', max_depth=None, max_features='auto',\n",
              "                       max_leaf_nodes=None, max_samples=None,\n",
              "                       min_impurity_decrease=0.0, min_impurity_split=None,\n",
              "                       min_samples_leaf=1, min_samples_split=2,\n",
              "                       min_weight_fraction_leaf=0.0, n_estimators=100,\n",
              "                       n_jobs=None, oob_score=False, random_state=7, verbose=0,\n",
              "                       warm_start=False)"
            ]
          },
          "metadata": {},
          "execution_count": 158
        }
      ]
    },
    {
      "cell_type": "code",
      "metadata": {
        "colab": {
          "base_uri": "https://localhost:8080/"
        },
        "id": "1zv5OAdYBcIQ",
        "outputId": "d8416de4-77c2-422f-e97d-7264c64d82b0"
      },
      "source": [
        "feature_imp = pd.Series(clf.feature_importances_,index=previsores.columns).sort_values(ascending=False)\n",
        "feature_imp"
      ],
      "execution_count": null,
      "outputs": [
        {
          "output_type": "execute_result",
          "data": {
            "text/plain": [
              "ca          0.126027\n",
              "cp          0.126022\n",
              "thalach     0.116257\n",
              "oldpeak     0.104537\n",
              "thal        0.098342\n",
              "age         0.089750\n",
              "chol        0.081859\n",
              "trestbps    0.077108\n",
              "exang       0.066902\n",
              "slope       0.050558\n",
              "sex         0.030958\n",
              "restecg     0.021215\n",
              "fbs         0.010465\n",
              "dtype: float64"
            ]
          },
          "metadata": {},
          "execution_count": 159
        }
      ]
    },
    {
      "cell_type": "code",
      "metadata": {
        "colab": {
          "base_uri": "https://localhost:8080/",
          "height": 404
        },
        "id": "LblWDf4p-p7W",
        "outputId": "a1196d18-50ae-4b83-f5a5-6329efd18572"
      },
      "source": [
        "fig, ax = plt.subplots(figsize=(8,6))\n",
        "sns.barplot(x=feature_imp, y=feature_imp.index)\n",
        "plt.xlabel('Feature Importance Score')\n",
        "plt.ylabel('Features')\n",
        "ax.set_title(\"Visualizing Important Features\")\n",
        "plt.show();"
      ],
      "execution_count": null,
      "outputs": [
        {
          "output_type": "display_data",
          "data": {
            "image/png": "[encoded data removed]",
            "text/plain": [
              "<Figure size 576x432 with 1 Axes>"
            ]
          },
          "metadata": {
            "needs_background": "light"
          }
        }
      ]
    },
    {
      "cell_type": "code",
      "metadata": {
        "colab": {
          "base_uri": "https://localhost:8080/"
        },
        "id": "dFgIWV80BskV",
        "outputId": "b8d0204e-6f2e-4891-c647-6ba0eaed75ed"
      },
      "source": [
        "# Selecionando as features de maior importância.\n",
        "\n",
        "features_selected = []\n",
        "for feature,importance in feature_imp.iteritems():\n",
        "    if importance > 0.03:\n",
        "        print(f'{feature}: {round(importance * 100)}%')\n",
        "        features_selected.append(feature)\n",
        "\n"
      ],
      "execution_count": null,
      "outputs": [
        {
          "output_type": "stream",
          "name": "stdout",
          "text": [
            "ca: 13%\n",
            "cp: 13%\n",
            "thalach: 12%\n",
            "oldpeak: 10%\n",
            "thal: 10%\n",
            "age: 9%\n",
            "chol: 8%\n",
            "trestbps: 8%\n",
            "exang: 7%\n",
            "slope: 5%\n",
            "sex: 3%\n"
          ]
        }
      ]
    },
    {
      "cell_type": "code",
      "metadata": {
        "id": "5zyuSzHYCgve"
      },
      "source": [
        "#treinando os modelo apenas com as features selecionadas\n",
        "previsores = df[features_selected]\n",
        "classe = df['num']"
      ],
      "execution_count": null,
      "outputs": []
    },
    {
      "cell_type": "markdown",
      "metadata": {
        "id": "GFvRbGxvCvXf"
      },
      "source": [
        "\n",
        "##Avaliação dos modelos de Machine Learning"
      ]
    },
    {
      "cell_type": "code",
      "metadata": {
        "colab": {
          "base_uri": "https://localhost:8080/"
        },
        "id": "dbEPYn_dCra1",
        "outputId": "f416ca4b-67a8-4dc5-f5b6-d3d0261624ea"
      },
      "source": [
        "\n",
        "\n",
        "pipelines = []\n",
        "\n",
        "pipelines.append(('Scaled-LR', Pipeline([('Scaler', StandardScaler()), ('LR', LogisticRegression())])))\n",
        "pipelines.append(('Scaled-KNN', Pipeline([('Scaler', StandardScaler()), ('KNN', KNeighborsClassifier())])))\n",
        "pipelines.append(('Scaled-CART', Pipeline([('Scaler', StandardScaler()), ('CART', DecisionTreeClassifier())])))\n",
        "pipelines.append(('Scaled-NB', Pipeline([('Scaler', StandardScaler()), ('NB',GaussianNB())])))\n",
        "pipelines.append(('Scaled-RF', Pipeline([('Scaler', StandardScaler()), ('RF', RandomForestClassifier())])))\n",
        "pipelines.append(('Scaled-XG', Pipeline([('Scaler', StandardScaler()), ('XGB', XGBClassifier())])))\n",
        "\n",
        "resultados =[]\n",
        "nomes= []\n",
        "\n",
        "\n",
        "\n",
        "\n",
        "#Percorrendo cada um dos modelos\n",
        "\n",
        "for nome, modelo  in pipelines:\n",
        "    kfold= StratifiedKFold(n_splits =10, shuffle=True, random_state=7)\n",
        "    cross_val_result = model_selection.cross_val_score(modelo,\n",
        "                                                       previsores,\n",
        "                                                       classe,\n",
        "                                                       cv=kfold,\n",
        "                                                       scoring='accuracy')\n",
        "    resultados.append(cross_val_result)\n",
        "    nomes.append(nome)\n",
        "    texto =\"%s: %f (%f)\" % (nome, cross_val_result.mean(), cross_val_result.std())\n",
        "    print(texto)"
      ],
      "execution_count": null,
      "outputs": [
        {
          "output_type": "stream",
          "name": "stdout",
          "text": [
            "Scaled-LR: 0.831290 (0.072576)\n",
            "Scaled-KNN: 0.808602 (0.054710)\n",
            "Scaled-CART: 0.733011 (0.070569)\n",
            "Scaled-NB: 0.851183 (0.058039)\n",
            "Scaled-RF: 0.834516 (0.057900)\n",
            "Scaled-XG: 0.805054 (0.054769)\n"
          ]
        }
      ]
    },
    {
      "cell_type": "markdown",
      "metadata": {
        "id": "p9nTeZR7Es-F"
      },
      "source": [
        "De acordo com os resultados anteriores, os modelos criados com Gaussian e Random Forest apresentaram \n",
        "os melhores valores de acurácia e portanto os melhores resultados.\n",
        "Isso pode ser confirmado, comparando os algoritmos através de boxplots a seguir:"
      ]
    },
    {
      "cell_type": "code",
      "metadata": {
        "colab": {
          "base_uri": "https://localhost:8080/",
          "height": 417
        },
        "id": "vImGTRRHDnnt",
        "outputId": "6e9923fb-bfdf-42e6-bde7-32ea93dd88dd"
      },
      "source": [
        "fig = plt.figure(figsize=(10,6))\n",
        "fig.suptitle('Comparando os Algoritmos Padronizados')\n",
        "ax = fig.add_subplot(111)\n",
        "plt.boxplot(resultados)\n",
        "ax.set_xticklabels(nomes)\n",
        "plt.show()"
      ],
      "execution_count": null,
      "outputs": [
        {
          "output_type": "display_data",
          "data": {
            "image/png": "[encoded data removed]",
            "text/plain": [
              "<Figure size 720x432 with 1 Axes>"
            ]
          },
          "metadata": {
            "needs_background": "light"
          }
        }
      ]
    },
    {
      "cell_type": "markdown",
      "metadata": {
        "id": "02PdkeOmFj9m"
      },
      "source": [
        "#Tunning dos modelos criados com Random Forest"
      ]
    },
    {
      "cell_type": "code",
      "metadata": {
        "colab": {
          "base_uri": "https://localhost:8080/"
        },
        "id": "1nU8XCUhE3c9",
        "outputId": "a830bf44-5fc2-4c1d-fbf2-eea45e1128d8"
      },
      "source": [
        "# Definindo a escala\n",
        "scaler = StandardScaler()\n",
        "previsores = scaler.fit_transform(previsores)\n",
        "\n",
        "#Possiíveis valores de estimators\n",
        "val_estimators= [20, 50, 100, 150, 200]\n",
        "\n",
        "#Possíveis valores para o critério de divisão\n",
        "val_criterion = ['gini', 'entropy']\n",
        "\n",
        "#definindo max_depth\n",
        "max_depth = list(range(1, 31))\n",
        "\n",
        "# Definindo um dicionário que recebe as listas de parâmetros e valores\n",
        "valores_grid = dict(criterion = val_criterion,\n",
        "                    max_depth = max_depth,\n",
        "                    n_estimators = val_estimators)\n",
        "\n",
        "#Definindo um dicionário que recebe as litaas de parâmetros e valores\n",
        "parametros_gri = dict(n_estimators = val_estimators,\n",
        "                      criterion = val_criterion)\n",
        "\n",
        "#Criando o modelo\n",
        "modelo_random = RandomForestClassifier()\n",
        "\n",
        "#Definindo K\n",
        "kfold = StratifiedKFold(n_splits=10, shuffle=True, random_state=7)\n",
        "\n",
        "#testando diferentes combinações com os parâmetros\n",
        "grid = RandomizedSearchCV(estimator=modelo_random, \n",
        "                          param_distributions=parametros_gri, \n",
        "                          cv =kfold, scoring = 'accuracy')\n",
        "grid.fit(previsores, classe)\n",
        "\n",
        "#Resultado:\n",
        "print(\"Grid Score on development set:\")\n",
        "means = grid.cv_results_['mean_test_score'].round(5)\n",
        "stds = grid.cv_results_['std_test_score'].round(5)\n",
        "\n",
        "\n",
        "for mean, std, params in zip(means, stds, grid.cv_results_['params']):\n",
        "  print(f'mean:{mean} std:{std}, params:{params}')\n",
        "print()\n",
        "print(f'Melhor parâmetro:{grid.best_params_}, \\nScore:{grid.best_score_}')"
      ],
      "execution_count": null,
      "outputs": [
        {
          "output_type": "stream",
          "name": "stdout",
          "text": [
            "Grid Score on development set:\n",
            "mean:0.81516 std:0.06221, params:{'n_estimators': 20, 'criterion': 'gini'}\n",
            "mean:0.83462 std:0.08005, params:{'n_estimators': 50, 'criterion': 'gini'}\n",
            "mean:0.8214 std:0.06393, params:{'n_estimators': 100, 'criterion': 'gini'}\n",
            "mean:0.82806 std:0.05509, params:{'n_estimators': 150, 'criterion': 'gini'}\n",
            "mean:0.8314 std:0.05824, params:{'n_estimators': 200, 'criterion': 'gini'}\n",
            "mean:0.82495 std:0.05329, params:{'n_estimators': 20, 'criterion': 'entropy'}\n",
            "mean:0.82161 std:0.05422, params:{'n_estimators': 50, 'criterion': 'entropy'}\n",
            "mean:0.82151 std:0.05251, params:{'n_estimators': 100, 'criterion': 'entropy'}\n",
            "mean:0.83796 std:0.06032, params:{'n_estimators': 150, 'criterion': 'entropy'}\n",
            "mean:0.82151 std:0.05944, params:{'n_estimators': 200, 'criterion': 'entropy'}\n",
            "\n",
            "Melhor parâmetro:{'n_estimators': 150, 'criterion': 'entropy'}, \n",
            "Score:0.8379569892473118\n"
          ]
        }
      ]
    },
    {
      "cell_type": "markdown",
      "metadata": {
        "id": "Cpy1_qnqP8j7"
      },
      "source": [
        "#CONCLUSÃO:\n",
        "\n",
        "Haja vista Random Forest ser o segundo modelo preditivo, tentei melhora-lo para ver se era possível obter um melhor resultado frente ao modelo Gaussiano, entreanto não alcançou o resultado desejável.\n",
        "\n",
        "Sendo assim o Gaussiano é melhor modelo a ser utilizado no presente projeto.\n"
      ]
    },
    {
      "cell_type": "code",
      "metadata": {
        "id": "4ipA0LBlMZOp"
      },
      "source": [
        ""
      ],
      "execution_count": null,
      "outputs": []
    }
  ]
}